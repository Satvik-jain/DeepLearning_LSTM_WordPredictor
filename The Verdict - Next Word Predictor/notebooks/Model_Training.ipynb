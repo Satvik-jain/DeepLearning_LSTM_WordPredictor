{
  "cells": [
    {
      "cell_type": "code",
      "execution_count": 1,
      "metadata": {
        "id": "ljRwjLzKWuTZ"
      },
      "outputs": [],
      "source": [
        "from tensorflow.keras.preprocessing.text import Tokenizer\n",
        "tokenizer = Tokenizer(oov_token='<nothing>')"
      ]
    },
    {
      "cell_type": "code",
      "execution_count": 2,
      "metadata": {
        "id": "7DKphPF3WuTX"
      },
      "outputs": [],
      "source": [
        "file = open('Data.txt', 'r', encoding = 'utf-8')\n",
        "text = file.read()\n",
        "file.close()"
      ]
    },
    {
      "cell_type": "code",
      "execution_count": 3,
      "metadata": {
        "id": "jMJDh7RaWuTa"
      },
      "outputs": [],
      "source": [
        "tokenizer.fit_on_texts([text])\n",
        "tok_len = len(tokenizer.word_index)"
      ]
    },
    {
      "cell_type": "code",
      "execution_count": 4,
      "metadata": {
        "id": "QaUGFhphWuTb"
      },
      "outputs": [],
      "source": [
        "input_sequences = []\n",
        "for sentences in text.split('\\n'):\n",
        "  tokenized_sen = tokenizer.texts_to_sequences([sentences])[0]\n",
        "  for i in range(1,len(tokenized_sen)):\n",
        "    input_sequences.append(tokenized_sen[:i+1])"
      ]
    },
    {
      "cell_type": "code",
      "execution_count": 5,
      "metadata": {
        "colab": {
          "base_uri": "https://localhost:8080/"
        },
        "id": "UTgAwDzKWuTb",
        "outputId": "19a0eecb-523e-44a1-ef2b-327a7e33e03b"
      },
      "outputs": [
        {
          "output_type": "execute_result",
          "data": {
            "text/plain": [
              "231"
            ]
          },
          "metadata": {},
          "execution_count": 5
        }
      ],
      "source": [
        "max_len = max([len(x) for x in input_sequences])\n",
        "max_len"
      ]
    },
    {
      "cell_type": "code",
      "execution_count": 6,
      "metadata": {
        "id": "mtKQXQ2nWuTb"
      },
      "outputs": [],
      "source": [
        "from keras.preprocessing.sequence import pad_sequences\n",
        "padded_input_sequences = pad_sequences(input_sequences, maxlen = max_len, padding='pre')"
      ]
    },
    {
      "cell_type": "code",
      "execution_count": 7,
      "metadata": {
        "id": "5euvAv7MWuTc"
      },
      "outputs": [],
      "source": [
        "X = padded_input_sequences[:,:max_len-1]\n",
        "y = padded_input_sequences[:,-1:]"
      ]
    },
    {
      "cell_type": "code",
      "execution_count": 8,
      "metadata": {
        "id": "r-772_iaWuTc"
      },
      "outputs": [],
      "source": [
        "from tensorflow.keras.utils import to_categorical\n",
        "y = to_categorical(y, num_classes = tok_len + 1)"
      ]
    },
    {
      "cell_type": "code",
      "execution_count": 9,
      "metadata": {
        "id": "VQ2Q2ndDWuTc"
      },
      "outputs": [],
      "source": [
        "from keras.layers import Embedding, Dense, LSTM\n",
        "from keras.models import Sequential"
      ]
    },
    {
      "cell_type": "code",
      "execution_count": 14,
      "metadata": {
        "id": "huiKoaCYWuTd"
      },
      "outputs": [],
      "source": [
        "model = Sequential()\n",
        "model.add(Embedding(tok_len + 1, 200, input_length = max_len - 1))\n",
        "model.add(LSTM(250))\n",
        "model.add(Dense(tok_len + 1, activation = 'softmax'))"
      ]
    },
    {
      "cell_type": "code",
      "execution_count": 15,
      "metadata": {
        "id": "wIe-qGgwWuTd"
      },
      "outputs": [],
      "source": [
        "model.compile(loss = 'categorical_crossentropy', optimizer = 'adam', metrics = ['accuracy'])"
      ]
    },
    {
      "cell_type": "code",
      "execution_count": 16,
      "metadata": {
        "colab": {
          "base_uri": "https://localhost:8080/"
        },
        "id": "6ri-0y0AWuTd",
        "outputId": "2d3a4de8-1683-4253-de2a-80a691bfef05"
      },
      "outputs": [
        {
          "output_type": "stream",
          "name": "stdout",
          "text": [
            "Model: \"sequential_1\"\n",
            "_________________________________________________________________\n",
            " Layer (type)                Output Shape              Param #   \n",
            "=================================================================\n",
            " embedding_1 (Embedding)     (None, 230, 200)          220000    \n",
            "                                                                 \n",
            " lstm_1 (LSTM)               (None, 250)               451000    \n",
            "                                                                 \n",
            " dense_1 (Dense)             (None, 1100)              276100    \n",
            "                                                                 \n",
            "=================================================================\n",
            "Total params: 947100 (3.61 MB)\n",
            "Trainable params: 947100 (3.61 MB)\n",
            "Non-trainable params: 0 (0.00 Byte)\n",
            "_________________________________________________________________\n"
          ]
        }
      ],
      "source": [
        "model.summary()"
      ]
    },
    {
      "cell_type": "code",
      "execution_count": 17,
      "metadata": {
        "colab": {
          "base_uri": "https://localhost:8080/"
        },
        "id": "Stn2W8XSWuTd",
        "outputId": "2a8ea4af-5d04-40a8-d0f6-38acbea8864f"
      },
      "outputs": [
        {
          "output_type": "stream",
          "name": "stdout",
          "text": [
            "Epoch 1/100\n",
            "115/115 [==============================] - 14s 92ms/step - loss: 6.3422 - accuracy: 0.0420\n",
            "Epoch 2/100\n",
            "115/115 [==============================] - 8s 67ms/step - loss: 5.8765 - accuracy: 0.0507\n",
            "Epoch 3/100\n",
            "115/115 [==============================] - 4s 32ms/step - loss: 5.6832 - accuracy: 0.0636\n",
            "Epoch 4/100\n",
            "115/115 [==============================] - 4s 37ms/step - loss: 5.4632 - accuracy: 0.0786\n",
            "Epoch 5/100\n",
            "115/115 [==============================] - 3s 23ms/step - loss: 5.2047 - accuracy: 0.0955\n",
            "Epoch 6/100\n",
            "115/115 [==============================] - 2s 21ms/step - loss: 4.9219 - accuracy: 0.1132\n",
            "Epoch 7/100\n",
            "115/115 [==============================] - 3s 24ms/step - loss: 4.6018 - accuracy: 0.1350\n",
            "Epoch 8/100\n",
            "115/115 [==============================] - 2s 19ms/step - loss: 4.2647 - accuracy: 0.1612\n",
            "Epoch 9/100\n",
            "115/115 [==============================] - 3s 26ms/step - loss: 3.9053 - accuracy: 0.2079\n",
            "Epoch 10/100\n",
            "115/115 [==============================] - 2s 20ms/step - loss: 3.5331 - accuracy: 0.2499\n",
            "Epoch 11/100\n",
            "115/115 [==============================] - 2s 18ms/step - loss: 3.1617 - accuracy: 0.3287\n",
            "Epoch 12/100\n",
            "115/115 [==============================] - 2s 17ms/step - loss: 2.7932 - accuracy: 0.3999\n",
            "Epoch 13/100\n",
            "115/115 [==============================] - 2s 17ms/step - loss: 2.4395 - accuracy: 0.4883\n",
            "Epoch 14/100\n",
            "115/115 [==============================] - 3s 23ms/step - loss: 2.1016 - accuracy: 0.5764\n",
            "Epoch 15/100\n",
            "115/115 [==============================] - 2s 21ms/step - loss: 1.7935 - accuracy: 0.6508\n",
            "Epoch 16/100\n",
            "115/115 [==============================] - 2s 19ms/step - loss: 1.5102 - accuracy: 0.7335\n",
            "Epoch 17/100\n",
            "115/115 [==============================] - 2s 16ms/step - loss: 1.2677 - accuracy: 0.7883\n",
            "Epoch 18/100\n",
            "115/115 [==============================] - 2s 17ms/step - loss: 1.0578 - accuracy: 0.8445\n",
            "Epoch 19/100\n",
            "115/115 [==============================] - 2s 17ms/step - loss: 0.8781 - accuracy: 0.8824\n",
            "Epoch 20/100\n",
            "115/115 [==============================] - 2s 16ms/step - loss: 0.7272 - accuracy: 0.9133\n",
            "Epoch 21/100\n",
            "115/115 [==============================] - 2s 17ms/step - loss: 0.6064 - accuracy: 0.9386\n",
            "Epoch 22/100\n",
            "115/115 [==============================] - 2s 18ms/step - loss: 0.5044 - accuracy: 0.9523\n",
            "Epoch 23/100\n",
            "115/115 [==============================] - 2s 17ms/step - loss: 0.4212 - accuracy: 0.9637\n",
            "Epoch 24/100\n",
            "115/115 [==============================] - 2s 17ms/step - loss: 0.3531 - accuracy: 0.9708\n",
            "Epoch 25/100\n",
            "115/115 [==============================] - 2s 17ms/step - loss: 0.3004 - accuracy: 0.9722\n",
            "Epoch 26/100\n",
            "115/115 [==============================] - 2s 19ms/step - loss: 0.2539 - accuracy: 0.9771\n",
            "Epoch 27/100\n",
            "115/115 [==============================] - 3s 22ms/step - loss: 0.2199 - accuracy: 0.9782\n",
            "Epoch 28/100\n",
            "115/115 [==============================] - 2s 17ms/step - loss: 0.1941 - accuracy: 0.9804\n",
            "Epoch 29/100\n",
            "115/115 [==============================] - 2s 15ms/step - loss: 0.1691 - accuracy: 0.9825\n",
            "Epoch 30/100\n",
            "115/115 [==============================] - 2s 16ms/step - loss: 0.1515 - accuracy: 0.9834\n",
            "Epoch 31/100\n",
            "115/115 [==============================] - 2s 17ms/step - loss: 0.1375 - accuracy: 0.9842\n",
            "Epoch 32/100\n",
            "115/115 [==============================] - 2s 15ms/step - loss: 0.1244 - accuracy: 0.9834\n",
            "Epoch 33/100\n",
            "115/115 [==============================] - 2s 19ms/step - loss: 0.1131 - accuracy: 0.9831\n",
            "Epoch 34/100\n",
            "115/115 [==============================] - 2s 20ms/step - loss: 0.1036 - accuracy: 0.9834\n",
            "Epoch 35/100\n",
            "115/115 [==============================] - 2s 16ms/step - loss: 0.0979 - accuracy: 0.9834\n",
            "Epoch 36/100\n",
            "115/115 [==============================] - 2s 15ms/step - loss: 0.0904 - accuracy: 0.9864\n",
            "Epoch 37/100\n",
            "115/115 [==============================] - 2s 15ms/step - loss: 0.0843 - accuracy: 0.9850\n",
            "Epoch 38/100\n",
            "115/115 [==============================] - 2s 16ms/step - loss: 0.0807 - accuracy: 0.9858\n",
            "Epoch 39/100\n",
            "115/115 [==============================] - 2s 16ms/step - loss: 0.0758 - accuracy: 0.9853\n",
            "Epoch 40/100\n",
            "115/115 [==============================] - 2s 21ms/step - loss: 0.0705 - accuracy: 0.9861\n",
            "Epoch 41/100\n",
            "115/115 [==============================] - 2s 16ms/step - loss: 0.0693 - accuracy: 0.9853\n",
            "Epoch 42/100\n",
            "115/115 [==============================] - 2s 18ms/step - loss: 0.0657 - accuracy: 0.9853\n",
            "Epoch 43/100\n",
            "115/115 [==============================] - 2s 15ms/step - loss: 0.0641 - accuracy: 0.9842\n",
            "Epoch 44/100\n",
            "115/115 [==============================] - 2s 16ms/step - loss: 0.0605 - accuracy: 0.9861\n",
            "Epoch 45/100\n",
            "115/115 [==============================] - 2s 17ms/step - loss: 0.0591 - accuracy: 0.9850\n",
            "Epoch 46/100\n",
            "115/115 [==============================] - 2s 18ms/step - loss: 0.0574 - accuracy: 0.9858\n",
            "Epoch 47/100\n",
            "115/115 [==============================] - 2s 17ms/step - loss: 0.0552 - accuracy: 0.9853\n",
            "Epoch 48/100\n",
            "115/115 [==============================] - 2s 16ms/step - loss: 0.0529 - accuracy: 0.9866\n",
            "Epoch 49/100\n",
            "115/115 [==============================] - 2s 16ms/step - loss: 0.0530 - accuracy: 0.9853\n",
            "Epoch 50/100\n",
            "115/115 [==============================] - 2s 16ms/step - loss: 0.0519 - accuracy: 0.9855\n",
            "Epoch 51/100\n",
            "115/115 [==============================] - 2s 15ms/step - loss: 0.0500 - accuracy: 0.9847\n",
            "Epoch 52/100\n",
            "115/115 [==============================] - 2s 16ms/step - loss: 0.0487 - accuracy: 0.9850\n",
            "Epoch 53/100\n",
            "115/115 [==============================] - 2s 17ms/step - loss: 0.0481 - accuracy: 0.9850\n",
            "Epoch 54/100\n",
            "115/115 [==============================] - 2s 18ms/step - loss: 0.0471 - accuracy: 0.9850\n",
            "Epoch 55/100\n",
            "115/115 [==============================] - 2s 15ms/step - loss: 0.0466 - accuracy: 0.9850\n",
            "Epoch 56/100\n",
            "115/115 [==============================] - 2s 16ms/step - loss: 0.0448 - accuracy: 0.9864\n",
            "Epoch 57/100\n",
            "115/115 [==============================] - 2s 16ms/step - loss: 0.0441 - accuracy: 0.9861\n",
            "Epoch 58/100\n",
            "115/115 [==============================] - 2s 15ms/step - loss: 0.0449 - accuracy: 0.9845\n",
            "Epoch 59/100\n",
            "115/115 [==============================] - 2s 15ms/step - loss: 0.0431 - accuracy: 0.9861\n",
            "Epoch 60/100\n",
            "115/115 [==============================] - 2s 17ms/step - loss: 0.0425 - accuracy: 0.9855\n",
            "Epoch 61/100\n",
            "115/115 [==============================] - 2s 16ms/step - loss: 0.0426 - accuracy: 0.9850\n",
            "Epoch 62/100\n",
            "115/115 [==============================] - 2s 15ms/step - loss: 0.0416 - accuracy: 0.9861\n",
            "Epoch 63/100\n",
            "115/115 [==============================] - 2s 18ms/step - loss: 0.0411 - accuracy: 0.9858\n",
            "Epoch 64/100\n",
            "115/115 [==============================] - 2s 15ms/step - loss: 0.0406 - accuracy: 0.9855\n",
            "Epoch 65/100\n",
            "115/115 [==============================] - 2s 16ms/step - loss: 0.0404 - accuracy: 0.9855\n",
            "Epoch 66/100\n",
            "115/115 [==============================] - 2s 17ms/step - loss: 0.0398 - accuracy: 0.9861\n",
            "Epoch 67/100\n",
            "115/115 [==============================] - 2s 18ms/step - loss: 0.0394 - accuracy: 0.9855\n",
            "Epoch 68/100\n",
            "115/115 [==============================] - 2s 15ms/step - loss: 0.0407 - accuracy: 0.9858\n",
            "Epoch 69/100\n",
            "115/115 [==============================] - 2s 15ms/step - loss: 0.0391 - accuracy: 0.9855\n",
            "Epoch 70/100\n",
            "115/115 [==============================] - 2s 16ms/step - loss: 0.0384 - accuracy: 0.9853\n",
            "Epoch 71/100\n",
            "115/115 [==============================] - 2s 16ms/step - loss: 0.0382 - accuracy: 0.9861\n",
            "Epoch 72/100\n",
            "115/115 [==============================] - 2s 15ms/step - loss: 0.0378 - accuracy: 0.9861\n",
            "Epoch 73/100\n",
            "115/115 [==============================] - 2s 15ms/step - loss: 0.0374 - accuracy: 0.9853\n",
            "Epoch 74/100\n",
            "115/115 [==============================] - 2s 20ms/step - loss: 0.0375 - accuracy: 0.9853\n",
            "Epoch 75/100\n",
            "115/115 [==============================] - 2s 15ms/step - loss: 0.0374 - accuracy: 0.9864\n",
            "Epoch 76/100\n",
            "115/115 [==============================] - 2s 15ms/step - loss: 0.0373 - accuracy: 0.9850\n",
            "Epoch 77/100\n",
            "115/115 [==============================] - 2s 16ms/step - loss: 0.0367 - accuracy: 0.9858\n",
            "Epoch 78/100\n",
            "115/115 [==============================] - 2s 15ms/step - loss: 0.0362 - accuracy: 0.9855\n",
            "Epoch 79/100\n",
            "115/115 [==============================] - 2s 15ms/step - loss: 0.0363 - accuracy: 0.9855\n",
            "Epoch 80/100\n",
            "115/115 [==============================] - 2s 15ms/step - loss: 0.0356 - accuracy: 0.9869\n",
            "Epoch 81/100\n",
            "115/115 [==============================] - 2s 17ms/step - loss: 0.0366 - accuracy: 0.9858\n",
            "Epoch 82/100\n",
            "115/115 [==============================] - 2s 16ms/step - loss: 0.0356 - accuracy: 0.9855\n",
            "Epoch 83/100\n",
            "115/115 [==============================] - 2s 16ms/step - loss: 0.0363 - accuracy: 0.9853\n",
            "Epoch 84/100\n",
            "115/115 [==============================] - 2s 15ms/step - loss: 0.0359 - accuracy: 0.9853\n",
            "Epoch 85/100\n",
            "115/115 [==============================] - 2s 16ms/step - loss: 0.0358 - accuracy: 0.9847\n",
            "Epoch 86/100\n",
            "115/115 [==============================] - 2s 16ms/step - loss: 0.0352 - accuracy: 0.9855\n",
            "Epoch 87/100\n",
            "115/115 [==============================] - 2s 19ms/step - loss: 0.0354 - accuracy: 0.9855\n",
            "Epoch 88/100\n",
            "115/115 [==============================] - 2s 19ms/step - loss: 0.0346 - accuracy: 0.9861\n",
            "Epoch 89/100\n",
            "115/115 [==============================] - 2s 15ms/step - loss: 0.0348 - accuracy: 0.9864\n",
            "Epoch 90/100\n",
            "115/115 [==============================] - 2s 15ms/step - loss: 0.0348 - accuracy: 0.9855\n",
            "Epoch 91/100\n",
            "115/115 [==============================] - 2s 15ms/step - loss: 0.0351 - accuracy: 0.9853\n",
            "Epoch 92/100\n",
            "115/115 [==============================] - 2s 16ms/step - loss: 0.0350 - accuracy: 0.9850\n",
            "Epoch 93/100\n",
            "115/115 [==============================] - 2s 15ms/step - loss: 0.0344 - accuracy: 0.9850\n",
            "Epoch 94/100\n",
            "115/115 [==============================] - 2s 16ms/step - loss: 0.0343 - accuracy: 0.9853\n",
            "Epoch 95/100\n",
            "115/115 [==============================] - 2s 18ms/step - loss: 0.0344 - accuracy: 0.9853\n",
            "Epoch 96/100\n",
            "115/115 [==============================] - 2s 16ms/step - loss: 0.0347 - accuracy: 0.9850\n",
            "Epoch 97/100\n",
            "115/115 [==============================] - 2s 16ms/step - loss: 0.0340 - accuracy: 0.9861\n",
            "Epoch 98/100\n",
            "115/115 [==============================] - 2s 15ms/step - loss: 0.0344 - accuracy: 0.9855\n",
            "Epoch 99/100\n",
            "115/115 [==============================] - 2s 15ms/step - loss: 0.0336 - accuracy: 0.9845\n",
            "Epoch 100/100\n",
            "115/115 [==============================] - 2s 15ms/step - loss: 0.0338 - accuracy: 0.9853\n"
          ]
        },
        {
          "output_type": "execute_result",
          "data": {
            "text/plain": [
              "<keras.src.callbacks.History at 0x7b153da080d0>"
            ]
          },
          "metadata": {},
          "execution_count": 17
        }
      ],
      "source": [
        "model.fit(X, y, epochs = 100)"
      ]
    },
    {
      "cell_type": "code",
      "source": [
        "model.save('The_Verdict.keras')"
      ],
      "metadata": {
        "id": "PxNVzFmxEP1h"
      },
      "execution_count": 21,
      "outputs": []
    },
    {
      "cell_type": "code",
      "source": [
        "import pickle\n",
        "with open('tokenizer.pickle', 'wb') as handle:\n",
        "  pickle.dump(tokenizer, handle, protocol=pickle.HIGHEST_PROTOCOL)"
      ],
      "metadata": {
        "id": "Wql3fgJsE59l"
      },
      "execution_count": 23,
      "outputs": []
    }
  ],
  "metadata": {
    "kaggle": {
      "accelerator": "none",
      "dataSources": [],
      "dockerImageVersionId": 30732,
      "isGpuEnabled": false,
      "isInternetEnabled": true,
      "language": "python",
      "sourceType": "notebook"
    },
    "kernelspec": {
      "display_name": "Python 3",
      "name": "python3"
    },
    "language_info": {
      "codemirror_mode": {
        "name": "ipython",
        "version": 3
      },
      "file_extension": ".py",
      "mimetype": "text/x-python",
      "name": "python",
      "nbconvert_exporter": "python",
      "pygments_lexer": "ipython3",
      "version": "3.11.4"
    },
    "colab": {
      "provenance": [],
      "gpuType": "T4"
    },
    "accelerator": "GPU"
  },
  "nbformat": 4,
  "nbformat_minor": 0
}